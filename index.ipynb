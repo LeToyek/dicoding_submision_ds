{
  "cells": [
    {
      "cell_type": "markdown",
      "metadata": {
        "id": "H9wADwK78DCz"
      },
      "source": [
        "# Proyek Analisis Data: [Input Nama Dataset]\n",
        "- **Nama:** Maulana Arif Wijaya\n",
        "- **Email:** maulanatoyek@gmail.com\n",
        "- **ID Dicoding:** maulana_arif"
      ]
    },
    {
      "cell_type": "markdown",
      "metadata": {
        "id": "eE0raob58DC0"
      },
      "source": [
        "## Menentukan Pertanyaan Bisnis"
      ]
    },
    {
      "cell_type": "markdown",
      "metadata": {
        "id": "GmQeQ5YF8DC0"
      },
      "source": [
        "1. Bagaimana perubahan kualitas udara sepanjang tahun di masing - masing kota?\n",
        "2. Apakah ada waktu-waktu tertentu di hari yang menunjukkan lonjakan signifikan dalam kualitas udara?\n",
        "3. Kota mana saja yang memiliki kualitas udara terbaik secara keseluruhan\n",
        "4. Kota mana yang mengalami lonjakan kualitas udara paling sering?\n",
        "5. Apakah ada kota yang menunjukkan perbaikan atau penurunan kualitas udara yang signifikan dari tahun ke tahun?\n",
        "6. Apakah ada hubungan antara kecepatan angin dan tingkat polusi udara?\n",
        "7. Kapan kualitas udara cenderung mengalami peningkatan atau penurunan secara drastis dalam sehari?\n",
        "8. Bagaimana perubahan tekanan udara mempengaruhi kualitas udara?\n",
        "9. Bagaimana pola curah hujan mempengaruhi konsentrasi polutan udara?\n",
        "10. Apakah ada hubungan antara arah angin dan perubahan kualitas udara?\n",
        "\n"
      ]
    },
    {
      "cell_type": "markdown",
      "metadata": {
        "id": "H-z4QGlO8DC1"
      },
      "source": [
        "## Import Semua Packages/Library yang Digunakan"
      ]
    },
    {
      "cell_type": "code",
      "execution_count": 1,
      "metadata": {
        "id": "FVYwaObI8DC1"
      },
      "outputs": [],
      "source": [
        "import numpy as np\n",
        "import pandas as pd\n",
        "import matplotlib.pyplot as plt\n",
        "import seaborn as sns"
      ]
    },
    {
      "cell_type": "markdown",
      "metadata": {
        "id": "h_Sh51Xy8DC1"
      },
      "source": [
        "## Data Wrangling"
      ]
    },
    {
      "cell_type": "markdown",
      "metadata": {
        "id": "sXU2GBYu8DC1"
      },
      "source": [
        "### Gathering Data"
      ]
    },
    {
      "cell_type": "code",
      "execution_count": 4,
      "metadata": {
        "id": "zjCBk1BI8DC1"
      },
      "outputs": [],
      "source": [
        "df_aotizhongxin = pd.read_csv('./data/PRSA_Data_Aotizhongxin_20130301-20170228.csv')\n",
        "df_changping = pd.read_csv('./data/PRSA_Data_Changping_20130301-20170228.csv')\n",
        "df_dingling = pd.read_csv('./data/PRSA_Data_Dingling_20130301-20170228.csv')\n",
        "df_dongsi = pd.read_csv('./data/PRSA_Data_Dongsi_20130301-20170228.csv')\n",
        "df_guanyuan = pd.read_csv('./data/PRSA_Data_Guanyuan_20130301-20170228.csv')\n",
        "df_gucheng = pd.read_csv('./data/PRSA_Data_Gucheng_20130301-20170228.csv')\n",
        "df_huairou = pd.read_csv('./data/PRSA_Data_Huairou_20130301-20170228.csv')\n",
        "df_nongzhanguan = pd.read_csv('./data/PRSA_Data_Nongzhanguan_20130301-20170228.csv')\n",
        "df_shunyi = pd.read_csv('./data/PRSA_Data_Shunyi_20130301-20170228.csv')\n",
        "df_tiantan = pd.read_csv('./data/PRSA_Data_Tiantan_20130301-20170228.csv')\n",
        "df_wanliu = pd.read_csv('./data/PRSA_Data_Wanliu_20130301-20170228.csv')\n",
        "df_wanshouxigong = pd.read_csv('./data/PRSA_Data_Wanshouxigong_20130301-20170228.csv')"
      ]
    },
    {
      "cell_type": "markdown",
      "metadata": {
        "id": "FHSiqaZp8DC1"
      },
      "source": [
        "### Assessing Data"
      ]
    },
    {
      "cell_type": "code",
      "execution_count": null,
      "metadata": {
        "id": "ax-3tEjc9Cj1"
      },
      "outputs": [],
      "source": []
    },
    {
      "cell_type": "markdown",
      "metadata": {
        "id": "EhN5R4hr8DC1"
      },
      "source": [
        "### Cleaning Data"
      ]
    },
    {
      "cell_type": "code",
      "execution_count": null,
      "metadata": {
        "id": "jVnYpprE9Evz"
      },
      "outputs": [],
      "source": []
    },
    {
      "cell_type": "markdown",
      "metadata": {
        "id": "gp-Y6wU38DC1"
      },
      "source": [
        "## Exploratory Data Analysis (EDA)"
      ]
    },
    {
      "cell_type": "markdown",
      "metadata": {
        "id": "MW7WF2kr8DC1"
      },
      "source": [
        "### Explore ..."
      ]
    },
    {
      "cell_type": "code",
      "execution_count": null,
      "metadata": {
        "id": "e9CQCZjk8DC2"
      },
      "outputs": [],
      "source": []
    },
    {
      "cell_type": "markdown",
      "metadata": {
        "id": "zsyZjqak8DC2"
      },
      "source": [
        "## Visualization & Explanatory Analysis"
      ]
    },
    {
      "cell_type": "markdown",
      "metadata": {
        "id": "HZxOiQ6n8DC2"
      },
      "source": [
        "### Pertanyaan 1:"
      ]
    },
    {
      "cell_type": "code",
      "execution_count": null,
      "metadata": {
        "id": "1swJUdAD8DC2"
      },
      "outputs": [],
      "source": []
    },
    {
      "cell_type": "markdown",
      "metadata": {
        "id": "DgHI7CiU8DC2"
      },
      "source": [
        "### Pertanyaan 2:"
      ]
    },
    {
      "cell_type": "code",
      "execution_count": null,
      "metadata": {
        "id": "Go0lCsvO8DC2"
      },
      "outputs": [],
      "source": []
    },
    {
      "cell_type": "markdown",
      "metadata": {
        "id": "_WeHlCeX8DC2"
      },
      "source": [
        "## Conclusion"
      ]
    },
    {
      "cell_type": "markdown",
      "metadata": {
        "id": "ZTcyR48Y8DC2"
      },
      "source": [
        "- Conclution pertanyaan 1\n",
        "- Conclution pertanyaan 2"
      ]
    }
  ],
  "metadata": {
    "colab": {
      "provenance": []
    },
    "kernelspec": {
      "display_name": "Python 3",
      "language": "python",
      "name": "python3"
    },
    "language_info": {
      "codemirror_mode": {
        "name": "ipython",
        "version": 3
      },
      "file_extension": ".py",
      "mimetype": "text/x-python",
      "name": "python",
      "nbconvert_exporter": "python",
      "pygments_lexer": "ipython3",
      "version": "3.10.7"
    },
    "orig_nbformat": 4,
    "vscode": {
      "interpreter": {
        "hash": "972b3bf27e332e87b5379f2791f6ef9dfc79c71018c370b0d7423235e20fe4d7"
      }
    }
  },
  "nbformat": 4,
  "nbformat_minor": 0
}
